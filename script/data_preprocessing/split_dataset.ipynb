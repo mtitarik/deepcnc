{
 "cells": [
  {
   "cell_type": "code",
   "execution_count": 71,
   "metadata": {},
   "outputs": [],
   "source": [
    "# \n",
    "is_on_colab = True\n",
    "\n",
    "is_show_colab_env_info = False\n",
    "\n",
    "\n",
    "if(is_on_colab):\n",
    "\n",
    "    if(is_show_colab_env_info):\n",
    "\n",
    "        \n",
    "        def printm():\n",
    "\n",
    "            process = psutil.Process(os.getpid())\n",
    "            print(\"Gen RAM Free: \" + humanize.naturalsize( psutil.virtual_memory().available ), \" | Proc size: \" + humanize.naturalsize( process.memory_info().rss))\n",
    "            print(\"GPU RAM Free: {0:.0f}MB | Used: {1:.0f}MB | Util {2:3.0f}% | Total {3:.0f}MB\".format(gpu.memoryFree, gpu.memoryUsed, gpu.memoryUtil*100, gpu.memoryTotal))\n",
    "\n",
    "        # memory footprint support libraries/code\n",
    "        !ln -sf /opt/bin/nvidia-smi /usr/bin/nvidia-smi\n",
    "        !pip install gputil\n",
    "        !pip install psutil\n",
    "        !pip install humanize  \n",
    "\n",
    "        import psutil\n",
    "        import humanize\n",
    "        import os\n",
    "        import GPUtil as GPU\n",
    "        GPUs = GPU.getGPUs()\n",
    "        # XXX: only one GPU on Colab and isn’t guaranteed\n",
    "        gpu = GPUs[0]\n",
    "\n",
    "\n",
    "        #GPU count and name\n",
    "        !lscpu |grep 'Model name'\n",
    "        !nvidia-smi -L\n",
    "        printm()\n",
    "\n",
    "  \n",
    "    from google.colab import drive\n",
    "    drive.mount('/content/drive')\n",
    "\n",
    "    gdrive_home_dir = '/content/drive/My Drive/'\n",
    "\n",
    "    project_dir = f'{gdrive_home_dir}DeepCNC/'\n",
    "    ds_dir = f'{project_dir}data/'\n",
    "    snapshot_dir = f'{project_dir}snapshots/'\n",
    "\n",
    "    !ls '{ds_dir}'\n",
    "\n",
    "else:\n",
    "    project_dir = f'/disks/data/paper_projects/DeepCNC/'\n",
    "    ds_dir = f'{project_dir}data/'\n",
    "    snapshot_dir = f'{project_dir}snapshots/'\n",
    "\n",
    "  "
   ]
  },
  {
   "cell_type": "code",
   "execution_count": 73,
   "metadata": {},
   "outputs": [
    {
     "name": "stdout",
     "output_type": "stream",
     "text": [
      "['1', '0']\n",
      "/disks/data/paper_projects/DeepCNC/data/imdata/1 : 18487\n",
      "train 1 16639\n",
      "val 1 1848\n",
      "/disks/data/paper_projects/DeepCNC/data/imdata/0 : 18787\n",
      "train 0 16909\n",
      "val 0 1878\n"
     ]
    }
   ],
   "source": [
    "im_savedir = f'{ds_dir}imdata/'\n",
    "ds_split_dir = f'{ds_dir}imdata_split_90_10/'\n",
    "\n",
    "import glob\n",
    "class_dirs = glob.glob(im_savedir+\"*\")\n",
    "class_labels = [d[d.rfind('/')+1:] for d in class_dirs]\n",
    "print(class_labels)\n",
    "\n",
    "# make the directory for storing this split\n",
    "import os\n",
    "os.makedirs(ds_split_dir, exist_ok = True)\n",
    "\n",
    "splitlabels = ['train','val']\n",
    "splitratios = [0.9, 0.1]\n",
    "assert sum(splitratios)==1\n",
    "\n",
    "import random\n",
    "import shutil\n",
    "import math\n",
    "\n",
    "for i in range(len(class_dirs)):\n",
    "    classdir = class_dirs[i]\n",
    "    class_label = class_labels[i]\n",
    "    images = glob.glob(classdir+\"/*.bmp\")\n",
    "    print(classdir,\":\",len(images))\n",
    "    im_count = len(images)\n",
    "    class_data_indices = [i for i in range(im_count)]\n",
    "    shuffled_indices = class_data_indices\n",
    "    random.shuffle(shuffled_indices)\n",
    "    \n",
    "    last_idx = 0\n",
    "    for j in range(len(splitlabels)):\n",
    "        splitlabel = splitlabels[j]\n",
    "        splitratio = splitratios[j]\n",
    "        \n",
    "        splitdir = f'{ds_split_dir}{splitlabel}/'\n",
    "        split_label_dir = f'{splitdir}{class_label}/'\n",
    "        os.makedirs(split_label_dir, exist_ok = True)\n",
    "        \n",
    "        im_count_in_split_class = math.ceil(im_count*splitratio)\n",
    "        split_im_indices = shuffled_indices[last_idx:last_idx + im_count_in_split_class]\n",
    "        last_idx += im_count_in_split_class\n",
    "        \n",
    "        split_label_images = [ images[i] for i in split_im_indices ]\n",
    "        #_ = [shutil.copy2(f,split_label_dir) for f in split_label_images]\n",
    "        _ = [shutil.copy2(f,split_label_dir) for f in split_label_images]\n",
    "\n",
    "        print(splitlabel,class_label,len(split_im_indices))\n",
    "    "
   ]
  },
  {
   "cell_type": "code",
   "execution_count": 74,
   "metadata": {},
   "outputs": [
    {
     "name": "stdout",
     "output_type": "stream",
     "text": [
      "1 ( 18487 )\n",
      "train  1  0.9000378644452859 ( 16639 )\n",
      "val  1  0.09996213555471413 ( 1848 )\n",
      "0 ( 18787 )\n",
      "train  0  0.9000372598073135 ( 16909 )\n",
      "val  0  0.09996274019268643 ( 1878 )\n"
     ]
    }
   ],
   "source": [
    "# verify the split\n",
    "\n",
    "indices = []\n",
    "for i in range(len(class_dirs)):\n",
    "    classdir = class_dirs[i]\n",
    "    class_label = class_labels[i]\n",
    "    class_images = glob.glob(classdir+\"/*.bmp\")\n",
    "    class_images_count = len(class_images)\n",
    "    print(class_label,\"(\",class_images_count,\")\")\n",
    "        \n",
    "    class_indices = []\n",
    "    for j in range(len(splitlabels)):\n",
    "        splitlabel = splitlabels[j]\n",
    "        splitratio = splitratios[j]\n",
    "        \n",
    "        splitdir = f'{ds_split_dir}{splitlabel}/'\n",
    "        split_label_dir = f'{splitdir}{class_label}/'\n",
    "        \n",
    "        split_label_images = glob.glob(split_label_dir+\"/*.bmp\")\n",
    "        class_indices.append(set(split_label_images))\n",
    "        split_label_image_count = len(split_label_images)\n",
    "        print(splitlabel,\"\",class_label,\"\",split_label_image_count/class_images_count, \"(\",split_label_image_count,\")\")\n",
    "        \n",
    "    indices.append(class_indices)    "
   ]
  },
  {
   "cell_type": "code",
   "execution_count": 68,
   "metadata": {},
   "outputs": [
    {
     "data": {
      "text/plain": [
       "set()"
      ]
     },
     "execution_count": 68,
     "metadata": {},
     "output_type": "execute_result"
    }
   ],
   "source": [
    "indices[1][0].intersection(indices[1][1])"
   ]
  },
  {
   "cell_type": "code",
   "execution_count": null,
   "metadata": {},
   "outputs": [],
   "source": []
  },
  {
   "cell_type": "code",
   "execution_count": null,
   "metadata": {},
   "outputs": [],
   "source": []
  }
 ],
 "metadata": {
  "kernelspec": {
   "display_name": "Python 3",
   "language": "python",
   "name": "python3"
  },
  "language_info": {
   "codemirror_mode": {
    "name": "ipython",
    "version": 3
   },
   "file_extension": ".py",
   "mimetype": "text/x-python",
   "name": "python",
   "nbconvert_exporter": "python",
   "pygments_lexer": "ipython3",
   "version": "3.6.8"
  }
 },
 "nbformat": 4,
 "nbformat_minor": 2
}
